{
 "cells": [
  {
   "cell_type": "markdown",
   "metadata": {},
   "source": [
    "# Set Up"
   ]
  },
  {
   "cell_type": "code",
   "execution_count": 2,
   "metadata": {},
   "outputs": [],
   "source": [
    "import pandas\n",
    "import pandas as pd\n",
    "from datetime import datetime\n",
    "# read in CSV\n",
    "RAW_DF = pd.read_csv('surveyresponses2021.csv') # this year's responses (2021 data)\n",
    "OLD_DF = pd.read_csv('2020-wics-advocacy-survey-responses.csv') # last year's responses"
   ]
  },
  {
   "cell_type": "code",
   "execution_count": 3,
   "metadata": {},
   "outputs": [],
   "source": [
    "# DATA CLEANING\n",
    "\n",
    "# drop metadata columns\n",
    "CLEAN_DF = RAW_DF.drop(columns=['StartDate', 'EndDate', 'Status', 'Progress', 'Duration (in seconds)', 'Finished', 'RecordedDate', 'ResponseId', 'DistributionChannel', 'UserLanguage'])\n",
    "OLD_DF = OLD_DF.drop(columns=['StartDate', 'EndDate', 'Status', 'Progress', 'Duration (in seconds)', 'Finished', 'RecordedDate', 'ResponseId', 'DistributionChannel', 'UserLanguage'])\n",
    "# create question key\n",
    "QUESTION_KEY = CLEAN_DF.drop(range(1, CLEAN_DF.shape[0])).to_dict()\n",
    "# drop metadata rows\n",
    "CLEAN_DF = CLEAN_DF.drop([0, 1])\n",
    "\n",
    "# standardize expected graduation date with datetime\n",
    "DATETIME_COL = pd.to_datetime(CLEAN_DF['Q2'], errors='coerce')\n",
    "DATETIME_COL[DATETIME_COL.isna()] = pd.to_datetime(CLEAN_DF['Q2'][DATETIME_COL.isna()], format='%M/%y')\n",
    "# add column with expected graduation date as datetime\n",
    "CLEAN_DF['Q2_DT'] = DATETIME_COL\n",
    "# drop responses for respondents outside of graduation date range\n",
    "CLEAN_DF = CLEAN_DF[(datetime(2021, 9, 1) <= CLEAN_DF['Q2_DT']) & (CLEAN_DF['Q2_DT'] <= datetime(2026, 8, 31))]"
   ]
  },
  {
   "cell_type": "code",
   "execution_count": 4,
   "metadata": {},
   "outputs": [],
   "source": [
    "# CONSTANTS\n",
    "\n",
    "# schools\n",
    "ARTS_HUMANITIES = ['Art, Film, and Visual Studies', 'Classics', 'Comparative Literature', 'East Asian Studies', 'English', 'Folklore and Mythology', 'Germanic Languages and Literatures', 'History and Literature', 'History of Art and Architecture', 'Linguistics', 'Music', 'Near Eastern Languages and Civilizations', 'Philosophy', 'Religion, Comparative Study of', 'Romance Languages and Literatures', 'Slavic Languages and Literatures', 'South Asian Studies', 'Theater, Dance, & Media']\n",
    "SOCIAL_SCIENCES = ['African and African American Studies', 'Anthropology', 'Economics', 'Environmental Science and Public Policy', 'Government', 'History', 'History and Science', 'Psychology', 'Social Studies', 'Sociology', 'Women, Gender, and Sexuality, Study of']\n",
    "PURE_SCIENCES = ['Astrophysics', 'Chemical and Physical Biology', 'Chemistry', 'Chemistry and Physics', 'Earth and Planetary Sciences', 'Human Developmental and Regenerative Biology', 'Human Evolutionary Biology', 'Integrative Biology', 'Mathematics', 'Molecular and Cellular Biology', 'Neuroscience', 'Physics', 'Statistics']\n",
    "SEAS = ['Applied Mathematics', 'Biomedical Engineering', 'Computer Science', 'Electrical Engineering', 'Engineering Sciences', 'Environmental Science and Engineering', 'Mechanical Engineering']\n",
    "UNDECIDED = ['Undecided']\n",
    "NONE = ['None']\n",
    "\n",
    "# class year\n",
    "FIRSTYEAR = (datetime(2024, 9, 1) <= CLEAN_DF['Q2_DT']) & (CLEAN_DF['Q2_DT'] <= datetime(2025, 8, 31))\n",
    "SOPHOMORE = (datetime(2023, 9, 1) <= CLEAN_DF['Q2_DT']) & (CLEAN_DF['Q2_DT'] <= datetime(2024, 8, 31))\n",
    "JUNIOR = (datetime(2022, 9, 1) <= CLEAN_DF['Q2_DT']) & (CLEAN_DF['Q2_DT'] <= datetime(2023, 8, 31))\n",
    "SENIOR = (datetime(2021, 9, 1) <= CLEAN_DF['Q2_DT']) & (CLEAN_DF['Q2_DT'] <= datetime(2022, 8, 31))\n",
    "\n",
    "# gender identity\n",
    "MALE = ['Man']\n",
    "NONMALE = ['Woman', 'Non-binary']\n",
    "\n",
    "# sexual orientation\n",
    "STRAIGHT = ['Straight/Heterosexual']\n",
    "NONSTRAIGHT = ['Queer', 'Questioning or unsure']\n",
    "\n",
    "# diagnosed with disability/impairment\n",
    "DIAGNOSED = ['Yes, I have been diagnosed with a disability or impairment']\n",
    "NONDIAGNOSED = ['No, I have not been diagnosed with a disability or impairment']\n"
   ]
  },
  {
   "cell_type": "code",
   "execution_count": 5,
   "metadata": {},
   "outputs": [],
   "source": [
    "# LIKERT SCALES\n",
    "\n",
    "LIKERT_KNOWLEDGE_KEY = {\n",
    "    'Significantly less knowledgeable' : 1,\n",
    "    'Less knowledgeable' : 2,\n",
    "    'Slightly less knowledgeable' : 3,\n",
    "    'Similarly knowledgeable' : 4,\n",
    "    'Slightly more knowledgeable' : 5,\n",
    "    'More knowledgeable' : 6,\n",
    "    'Significantly more knowledgeable' : 7\n",
    "}\n",
    "\n",
    "LIKERT_AGREEMENT_KEY = {\n",
    "    'Strongly disagree' : 1,\n",
    "    'Disagree' : 2,\n",
    "    'Somewhat disagree' : 3,\n",
    "    'Neither agree nor disagree' : 4,\n",
    "    'Somewhat agree' : 5,\n",
    "    'Agree' : 6,\n",
    "    'Strongly agree' : 7\n",
    "}"
   ]
  },
  {
   "cell_type": "markdown",
   "metadata": {},
   "source": [
    "# Demo"
   ]
  },
  {
   "cell_type": "markdown",
   "metadata": {},
   "source": [
    "### Question key"
   ]
  },
  {
   "cell_type": "code",
   "execution_count": 6,
   "metadata": {},
   "outputs": [
    {
     "name": "stdout",
     "output_type": "stream",
     "text": [
      "What is your intended concentration?\n",
      "\n",
      "If you are a joint concentrator, select your primary concentration. If you are undeclared, you may still select an intended concentration.\n"
     ]
    },
    {
     "data": {
      "text/html": [
       "<div>\n",
       "<style scoped>\n",
       "    .dataframe tbody tr th:only-of-type {\n",
       "        vertical-align: middle;\n",
       "    }\n",
       "\n",
       "    .dataframe tbody tr th {\n",
       "        vertical-align: top;\n",
       "    }\n",
       "\n",
       "    .dataframe thead th {\n",
       "        text-align: right;\n",
       "    }\n",
       "</style>\n",
       "<table border=\"1\" class=\"dataframe\">\n",
       "  <thead>\n",
       "    <tr style=\"text-align: right;\">\n",
       "      <th></th>\n",
       "      <th>Q1</th>\n",
       "      <th>Q2</th>\n",
       "      <th>Q3</th>\n",
       "      <th>Q4</th>\n",
       "      <th>Q5</th>\n",
       "      <th>Q6</th>\n",
       "      <th>Q6_5_TEXT</th>\n",
       "      <th>Q7_1</th>\n",
       "      <th>Q7_2</th>\n",
       "      <th>Q7_3</th>\n",
       "      <th>...</th>\n",
       "      <th>Q31</th>\n",
       "      <th>Q32</th>\n",
       "      <th>Q33</th>\n",
       "      <th>Q33_8_TEXT</th>\n",
       "      <th>Q34</th>\n",
       "      <th>Q35</th>\n",
       "      <th>Q36</th>\n",
       "      <th>Q37</th>\n",
       "      <th>Q37_4_TEXT</th>\n",
       "      <th>Q2_DT</th>\n",
       "    </tr>\n",
       "  </thead>\n",
       "  <tbody>\n",
       "    <tr>\n",
       "      <th>2</th>\n",
       "      <td>Computer Science</td>\n",
       "      <td>06/2025</td>\n",
       "      <td>Yes</td>\n",
       "      <td>Computer Science</td>\n",
       "      <td>My first-year academic advisor</td>\n",
       "      <td>In high school (including summer after graduat...</td>\n",
       "      <td>NaN</td>\n",
       "      <td>4</td>\n",
       "      <td>3</td>\n",
       "      <td>2</td>\n",
       "      <td>...</td>\n",
       "      <td>No</td>\n",
       "      <td>Straight/Heterosexual</td>\n",
       "      <td>White</td>\n",
       "      <td>NaN</td>\n",
       "      <td>No, not of Hispanic or Latinx origin</td>\n",
       "      <td>No</td>\n",
       "      <td>Yes</td>\n",
       "      <td>No, I have not been diagnosed with a disabilit...</td>\n",
       "      <td>NaN</td>\n",
       "      <td>2025-06-01</td>\n",
       "    </tr>\n",
       "    <tr>\n",
       "      <th>3</th>\n",
       "      <td>Computer Science</td>\n",
       "      <td>05/2025</td>\n",
       "      <td>Yes</td>\n",
       "      <td>Computer Science</td>\n",
       "      <td>NaN</td>\n",
       "      <td>In high school (including summer after graduat...</td>\n",
       "      <td>NaN</td>\n",
       "      <td>5</td>\n",
       "      <td>3</td>\n",
       "      <td>4</td>\n",
       "      <td>...</td>\n",
       "      <td>No</td>\n",
       "      <td>Straight/Heterosexual</td>\n",
       "      <td>Asian</td>\n",
       "      <td>NaN</td>\n",
       "      <td>No, not of Hispanic or Latinx origin</td>\n",
       "      <td>No</td>\n",
       "      <td>No</td>\n",
       "      <td>No, I have not been diagnosed with a disabilit...</td>\n",
       "      <td>NaN</td>\n",
       "      <td>2025-05-01</td>\n",
       "    </tr>\n",
       "    <tr>\n",
       "      <th>4</th>\n",
       "      <td>Undecided</td>\n",
       "      <td>05/2024</td>\n",
       "      <td>No</td>\n",
       "      <td>Art, Film, and Visual Studies,Comparative Lite...</td>\n",
       "      <td>Department heads,Department faculty,Department...</td>\n",
       "      <td>I have never been taught programming or comput...</td>\n",
       "      <td>NaN</td>\n",
       "      <td>NaN</td>\n",
       "      <td>NaN</td>\n",
       "      <td>NaN</td>\n",
       "      <td>...</td>\n",
       "      <td>Prefer not to say</td>\n",
       "      <td>Queer</td>\n",
       "      <td>Asian</td>\n",
       "      <td>NaN</td>\n",
       "      <td>No, not of Hispanic or Latinx origin</td>\n",
       "      <td>No</td>\n",
       "      <td>No</td>\n",
       "      <td>No, I have not been diagnosed with a disabilit...</td>\n",
       "      <td>NaN</td>\n",
       "      <td>2024-05-01</td>\n",
       "    </tr>\n",
       "    <tr>\n",
       "      <th>5</th>\n",
       "      <td>Physics</td>\n",
       "      <td>05/2024</td>\n",
       "      <td>Yes</td>\n",
       "      <td>Physics</td>\n",
       "      <td>Residential advising resources, such as house ...</td>\n",
       "      <td>In college</td>\n",
       "      <td>NaN</td>\n",
       "      <td>NaN</td>\n",
       "      <td>NaN</td>\n",
       "      <td>NaN</td>\n",
       "      <td>...</td>\n",
       "      <td>No</td>\n",
       "      <td>Questioning or unsure</td>\n",
       "      <td>Asian,Native Hawaiian or Other Pacific Islander</td>\n",
       "      <td>NaN</td>\n",
       "      <td>No, not of Hispanic or Latinx origin</td>\n",
       "      <td>No</td>\n",
       "      <td>No</td>\n",
       "      <td>No, I have not been diagnosed with a disabilit...</td>\n",
       "      <td>NaN</td>\n",
       "      <td>2024-05-01</td>\n",
       "    </tr>\n",
       "    <tr>\n",
       "      <th>6</th>\n",
       "      <td>Applied Mathematics</td>\n",
       "      <td>05/2024</td>\n",
       "      <td>Yes</td>\n",
       "      <td>Applied Mathematics,Economics</td>\n",
       "      <td>NaN</td>\n",
       "      <td>In high school (including summer after graduat...</td>\n",
       "      <td>NaN</td>\n",
       "      <td>NaN</td>\n",
       "      <td>NaN</td>\n",
       "      <td>NaN</td>\n",
       "      <td>...</td>\n",
       "      <td>No</td>\n",
       "      <td>Questioning or unsure</td>\n",
       "      <td>Asian</td>\n",
       "      <td>NaN</td>\n",
       "      <td>No, not of Hispanic or Latinx origin</td>\n",
       "      <td>No</td>\n",
       "      <td>No</td>\n",
       "      <td>No, I have not been diagnosed with a disabilit...</td>\n",
       "      <td>NaN</td>\n",
       "      <td>2024-05-01</td>\n",
       "    </tr>\n",
       "  </tbody>\n",
       "</table>\n",
       "<p>5 rows × 77 columns</p>\n",
       "</div>"
      ],
      "text/plain": [
       "                    Q1       Q2   Q3  \\\n",
       "2     Computer Science  06/2025  Yes   \n",
       "3     Computer Science  05/2025  Yes   \n",
       "4            Undecided  05/2024   No   \n",
       "5              Physics  05/2024  Yes   \n",
       "6  Applied Mathematics  05/2024  Yes   \n",
       "\n",
       "                                                  Q4  \\\n",
       "2                                   Computer Science   \n",
       "3                                   Computer Science   \n",
       "4  Art, Film, and Visual Studies,Comparative Lite...   \n",
       "5                                            Physics   \n",
       "6                      Applied Mathematics,Economics   \n",
       "\n",
       "                                                  Q5  \\\n",
       "2                     My first-year academic advisor   \n",
       "3                                                NaN   \n",
       "4  Department heads,Department faculty,Department...   \n",
       "5  Residential advising resources, such as house ...   \n",
       "6                                                NaN   \n",
       "\n",
       "                                                  Q6 Q6_5_TEXT Q7_1 Q7_2 Q7_3  \\\n",
       "2  In high school (including summer after graduat...       NaN    4    3    2   \n",
       "3  In high school (including summer after graduat...       NaN    5    3    4   \n",
       "4  I have never been taught programming or comput...       NaN  NaN  NaN  NaN   \n",
       "5                                         In college       NaN  NaN  NaN  NaN   \n",
       "6  In high school (including summer after graduat...       NaN  NaN  NaN  NaN   \n",
       "\n",
       "   ...                Q31                    Q32  \\\n",
       "2  ...                 No  Straight/Heterosexual   \n",
       "3  ...                 No  Straight/Heterosexual   \n",
       "4  ...  Prefer not to say                  Queer   \n",
       "5  ...                 No  Questioning or unsure   \n",
       "6  ...                 No  Questioning or unsure   \n",
       "\n",
       "                                               Q33 Q33_8_TEXT  \\\n",
       "2                                            White        NaN   \n",
       "3                                            Asian        NaN   \n",
       "4                                            Asian        NaN   \n",
       "5  Asian,Native Hawaiian or Other Pacific Islander        NaN   \n",
       "6                                            Asian        NaN   \n",
       "\n",
       "                                    Q34 Q35  Q36  \\\n",
       "2  No, not of Hispanic or Latinx origin  No  Yes   \n",
       "3  No, not of Hispanic or Latinx origin  No   No   \n",
       "4  No, not of Hispanic or Latinx origin  No   No   \n",
       "5  No, not of Hispanic or Latinx origin  No   No   \n",
       "6  No, not of Hispanic or Latinx origin  No   No   \n",
       "\n",
       "                                                 Q37 Q37_4_TEXT      Q2_DT  \n",
       "2  No, I have not been diagnosed with a disabilit...        NaN 2025-06-01  \n",
       "3  No, I have not been diagnosed with a disabilit...        NaN 2025-05-01  \n",
       "4  No, I have not been diagnosed with a disabilit...        NaN 2024-05-01  \n",
       "5  No, I have not been diagnosed with a disabilit...        NaN 2024-05-01  \n",
       "6  No, I have not been diagnosed with a disabilit...        NaN 2024-05-01  \n",
       "\n",
       "[5 rows x 77 columns]"
      ]
     },
     "execution_count": 6,
     "metadata": {},
     "output_type": "execute_result"
    }
   ],
   "source": [
    "# Question key, maps question ID to question text\n",
    "print(QUESTION_KEY['Q1'][0])\n",
    "CLEAN_DF.head()"
   ]
  },
  {
   "cell_type": "markdown",
   "metadata": {},
   "source": [
    "### Filter by concentration/secondary"
   ]
  },
  {
   "cell_type": "code",
   "execution_count": 7,
   "metadata": {},
   "outputs": [
    {
     "data": {
      "text/plain": [
       "(63, 77)"
      ]
     },
     "execution_count": 7,
     "metadata": {},
     "output_type": "execute_result"
    }
   ],
   "source": [
    "# All primary SEAS concentrators\n",
    "CLEAN_DF[CLEAN_DF['Q1'].isin(SEAS)].shape"
   ]
  },
  {
   "cell_type": "code",
   "execution_count": 8,
   "metadata": {},
   "outputs": [
    {
     "data": {
      "text/plain": [
       "(92, 77)"
      ]
     },
     "execution_count": 8,
     "metadata": {},
     "output_type": "execute_result"
    }
   ],
   "source": [
    "# All decided concentrators\n",
    "CLEAN_DF[~(CLEAN_DF['Q1'].isin(UNDECIDED))].shape"
   ]
  },
  {
   "cell_type": "code",
   "execution_count": 9,
   "metadata": {},
   "outputs": [
    {
     "data": {
      "text/plain": [
       "(53, 77)"
      ]
     },
     "execution_count": 9,
     "metadata": {},
     "output_type": "execute_result"
    }
   ],
   "source": [
    "# All CS concentrators\n",
    "CLEAN_DF[(CLEAN_DF['Q1'] == 'Computer Science')].shape"
   ]
  },
  {
   "cell_type": "markdown",
   "metadata": {},
   "source": [
    "### Class year"
   ]
  },
  {
   "cell_type": "code",
   "execution_count": 10,
   "metadata": {},
   "outputs": [
    {
     "data": {
      "text/plain": [
       "(21, 77)"
      ]
     },
     "execution_count": 10,
     "metadata": {},
     "output_type": "execute_result"
    }
   ],
   "source": [
    "# All firstyears\n",
    "CLEAN_DF[FIRSTYEAR].shape"
   ]
  },
  {
   "cell_type": "code",
   "execution_count": 11,
   "metadata": {},
   "outputs": [
    {
     "data": {
      "text/plain": [
       "(28, 77)"
      ]
     },
     "execution_count": 11,
     "metadata": {},
     "output_type": "execute_result"
    }
   ],
   "source": [
    "# All sophomores\n",
    "CLEAN_DF[SOPHOMORE].shape"
   ]
  },
  {
   "cell_type": "code",
   "execution_count": 12,
   "metadata": {},
   "outputs": [
    {
     "data": {
      "text/plain": [
       "(28, 77)"
      ]
     },
     "execution_count": 12,
     "metadata": {},
     "output_type": "execute_result"
    }
   ],
   "source": [
    "# All juniors\n",
    "CLEAN_DF[JUNIOR].shape"
   ]
  },
  {
   "cell_type": "code",
   "execution_count": 13,
   "metadata": {},
   "outputs": [
    {
     "data": {
      "text/plain": [
       "(17, 77)"
      ]
     },
     "execution_count": 13,
     "metadata": {},
     "output_type": "execute_result"
    }
   ],
   "source": [
    "# All seniors\n",
    "CLEAN_DF[SENIOR].shape"
   ]
  },
  {
   "cell_type": "markdown",
   "metadata": {},
   "source": [
    "### Has enrolled in CS course"
   ]
  },
  {
   "cell_type": "code",
   "execution_count": 14,
   "metadata": {},
   "outputs": [
    {
     "data": {
      "text/plain": [
       "(79, 77)"
      ]
     },
     "execution_count": 14,
     "metadata": {},
     "output_type": "execute_result"
    }
   ],
   "source": [
    "# All undergraduates who have enrolled in a CS course\n",
    "CLEAN_DF[CLEAN_DF['Q3'] == 'Yes'].shape"
   ]
  },
  {
   "cell_type": "markdown",
   "metadata": {},
   "source": [
    "### Gender identity"
   ]
  },
  {
   "cell_type": "code",
   "execution_count": 15,
   "metadata": {},
   "outputs": [
    {
     "data": {
      "text/plain": [
       "(18, 77)"
      ]
     },
     "execution_count": 15,
     "metadata": {},
     "output_type": "execute_result"
    }
   ],
   "source": [
    "# All male respondents\n",
    "CLEAN_DF[CLEAN_DF['Q30'].isin(MALE)].shape"
   ]
  },
  {
   "cell_type": "code",
   "execution_count": 16,
   "metadata": {},
   "outputs": [
    {
     "data": {
      "text/plain": [
       "(73, 77)"
      ]
     },
     "execution_count": 16,
     "metadata": {},
     "output_type": "execute_result"
    }
   ],
   "source": [
    "# All female, non-binary/third gender, agender, and genderqueer respondents\n",
    "CLEAN_DF[CLEAN_DF['Q30'].isin(NONMALE)].shape"
   ]
  },
  {
   "cell_type": "markdown",
   "metadata": {},
   "source": [
    "### BGLTQ+"
   ]
  },
  {
   "cell_type": "code",
   "execution_count": 17,
   "metadata": {},
   "outputs": [
    {
     "data": {
      "text/plain": [
       "(31, 77)"
      ]
     },
     "execution_count": 17,
     "metadata": {},
     "output_type": "execute_result"
    }
   ],
   "source": [
    "# All BGLTQ+ respondents\n",
    "CLEAN_DF[CLEAN_DF['Q32'].isin(NONSTRAIGHT)].shape"
   ]
  },
  {
   "cell_type": "code",
   "execution_count": 18,
   "metadata": {},
   "outputs": [
    {
     "data": {
      "text/plain": [
       "(60, 77)"
      ]
     },
     "execution_count": 18,
     "metadata": {},
     "output_type": "execute_result"
    }
   ],
   "source": [
    "# All non BGLTQ+ respondents\n",
    "CLEAN_DF[CLEAN_DF['Q32'].isin(STRAIGHT)].shape"
   ]
  },
  {
   "cell_type": "markdown",
   "metadata": {},
   "source": [
    "### Race and ethnicity"
   ]
  },
  {
   "cell_type": "code",
   "execution_count": 19,
   "metadata": {},
   "outputs": [
    {
     "data": {
      "text/plain": [
       "(30, 77)"
      ]
     },
     "execution_count": 19,
     "metadata": {},
     "output_type": "execute_result"
    }
   ],
   "source": [
    "# All White respondents\n",
    "CLEAN_DF[CLEAN_DF['Q33'].str.contains('White', na=False)].shape"
   ]
  },
  {
   "cell_type": "code",
   "execution_count": 20,
   "metadata": {},
   "outputs": [
    {
     "data": {
      "text/plain": [
       "(66, 77)"
      ]
     },
     "execution_count": 20,
     "metadata": {},
     "output_type": "execute_result"
    }
   ],
   "source": [
    "# All Asian respondents\n",
    "CLEAN_DF[CLEAN_DF['Q33'].str.contains('Asian', na=False)].shape"
   ]
  },
  {
   "cell_type": "code",
   "execution_count": 21,
   "metadata": {},
   "outputs": [
    {
     "data": {
      "text/plain": [
       "(4, 77)"
      ]
     },
     "execution_count": 21,
     "metadata": {},
     "output_type": "execute_result"
    }
   ],
   "source": [
    "# All Black respondents\n",
    "CLEAN_DF[CLEAN_DF['Q33'].str.contains('Black or African American', na=False)].shape"
   ]
  },
  {
   "cell_type": "code",
   "execution_count": 22,
   "metadata": {},
   "outputs": [
    {
     "data": {
      "text/plain": [
       "(3, 77)"
      ]
     },
     "execution_count": 22,
     "metadata": {},
     "output_type": "execute_result"
    }
   ],
   "source": [
    "# All Hispanic / Latinx respondents\n",
    "CLEAN_DF[CLEAN_DF['Q34'] == 'Yes, of Hispanic or Latinx origin'].shape"
   ]
  },
  {
   "cell_type": "markdown",
   "metadata": {},
   "source": [
    "### FGLI (first generation, low income)"
   ]
  },
  {
   "cell_type": "code",
   "execution_count": 23,
   "metadata": {},
   "outputs": [
    {
     "data": {
      "text/plain": [
       "(9, 77)"
      ]
     },
     "execution_count": 23,
     "metadata": {},
     "output_type": "execute_result"
    }
   ],
   "source": [
    "# All first generation respondents\n",
    "CLEAN_DF[CLEAN_DF['Q35'] == 'Yes'].shape"
   ]
  },
  {
   "cell_type": "code",
   "execution_count": 24,
   "metadata": {},
   "outputs": [
    {
     "data": {
      "text/plain": [
       "(14, 77)"
      ]
     },
     "execution_count": 24,
     "metadata": {},
     "output_type": "execute_result"
    }
   ],
   "source": [
    "# All low income respondents\n",
    "CLEAN_DF[CLEAN_DF['Q36'] == 'Yes'].shape"
   ]
  },
  {
   "cell_type": "markdown",
   "metadata": {},
   "source": [
    "### Diagnosed with disability/impairment"
   ]
  },
  {
   "cell_type": "code",
   "execution_count": 25,
   "metadata": {},
   "outputs": [
    {
     "data": {
      "text/plain": [
       "(8, 77)"
      ]
     },
     "execution_count": 25,
     "metadata": {},
     "output_type": "execute_result"
    }
   ],
   "source": [
    "# All respondents diagnosed with a disability or impairment\n",
    "CLEAN_DF[CLEAN_DF['Q37'].isin(DIAGNOSED)].shape"
   ]
  },
  {
   "cell_type": "code",
   "execution_count": 26,
   "metadata": {},
   "outputs": [
    {
     "data": {
      "text/plain": [
       "(76, 77)"
      ]
     },
     "execution_count": 26,
     "metadata": {},
     "output_type": "execute_result"
    }
   ],
   "source": [
    "# All respondents not diagnosed with a disability or impairment\n",
    "CLEAN_DF[CLEAN_DF['Q37'].isin(NONDIAGNOSED)].shape"
   ]
  },
  {
   "cell_type": "markdown",
   "metadata": {},
   "source": [
    "# Your Turn!"
   ]
  },
  {
   "cell_type": "markdown",
   "metadata": {},
   "source": [
    "For each question, consider how the responses vary based on each of the following factors:\n",
    "* School (SEAS, Arts/Humanties, Social Sciences, Pure Sciences) where applicable\n",
    "* Class year\n",
    "* Gender identity\n",
    "* BGLTQ+\n",
    "* Race and ethnicity\n",
    "* FGLI (first generation, low income)\n",
    "* Disability\n",
    "\n",
    "Be sure to consider combinations of factors as well (ex: Gender Identity + Race/Ethnicity). Ensure that n > 5 for all population groups."
   ]
  },
  {
   "cell_type": "markdown",
   "metadata": {},
   "source": [
    "### Section 1 (Q4, Q5, Q6, Q7) - Ivy"
   ]
  },
  {
   "cell_type": "code",
   "execution_count": 27,
   "metadata": {},
   "outputs": [
    {
     "name": "stdout",
     "output_type": "stream",
     "text": [
      "If you have been taught programming or computer science through an academic or extracurricular program, when did you enroll in your first course? - Selected Choice\n"
     ]
    }
   ],
   "source": [
    "print(QUESTION_KEY['Q6'][0])\n",
    "\n",
    "Q6_OPTIONS = [\n",
    "    'In middle school (including summer after graduation)',\n",
    "    'In high school (including summer after graduation)',\n",
    "    'In college',\n",
    "    'I have never been taught programming or computer science in an academic or extracurricular program'\n",
    "]\n",
    "\n",
    "# CLEAN_DF['Q6']"
   ]
  },
  {
   "cell_type": "markdown",
   "metadata": {},
   "source": [
    "### Section 2 (Q8, Q9, Q10, Q11) - Susannah"
   ]
  },
  {
   "cell_type": "markdown",
   "metadata": {},
   "source": [
    "### Section 3 (Q12, Q13, Q14, Q15, Q21) - Lauren"
   ]
  },
  {
   "cell_type": "code",
   "execution_count": 28,
   "metadata": {},
   "outputs": [
    {
     "name": "stdout",
     "output_type": "stream",
     "text": [
      "Indicate which of the following Harvard CS courses you have taken, including in this semester:\n"
     ]
    }
   ],
   "source": [
    "print(QUESTION_KEY['Q12'][0])\n",
    "\n",
    "Q12_OPTIONS = [\n",
    "    'CS 1: Great Ideas in Computer Science',\n",
    "    'CS 1: Great Ideas in Computer Science',\n",
    "    'CS 10: Elements of Data Science',\n",
    "    'CS 20: Discrete Mathematics for Computer Science',\n",
    "    'CS 50: Introduction to Computer Science I',\n",
    "    'CS 51: Introduction to Computer Science II',\n",
    "    'CS 61: Systems Programming and Machine Organization',\n",
    "    'CS 121: Introduction to Theoretical Computer Science',\n",
    "    'CS 124: Data Structures and Algorithms',\n",
    "    'CS 9x, an undergraduate-level research CS course',\n",
    "    'CS 12x, an undergraduate-level theoretical CS course (other than CS 121 or CS 124)',\n",
    "    'CS 13x, an undergraduate-level economics/computation course',\n",
    "    'CS 14x, an undergraduate-level networks course',\n",
    "    'CS 15x, an undergraduate-level programming languages course',\n",
    "    'CS 16x, an undergraduate-level systems course',\n",
    "    'CS 17x, an undergraduate-level graphics/visualization/user interfaces course',\n",
    "    'CS 18x, an undergraduate-level artificial intelligence course',\n",
    "    'CS 10x, an undergraduate-level miscellaneous course',\n",
    "    'CS 22x, a graduate-level theoretical computer science course',\n",
    "    'CS 23x, a graduate-level economics/computation course',\n",
    "    'CS 24x, a graduate-level networks course',\n",
    "    'CS 25x, a graduate-level programming languages course',\n",
    "    'CS 26x, a graduate-level systems course',\n",
    "    'CS 27x, a graduate-level graphics/visualization/user interfaces course',\n",
    "    'CS 28x, a graduate-level artificial intelligence course',\n",
    "    'CS 20x, a graduate-level miscellaneous course'\n",
    "]\n",
    "\n",
    "# filter undergraduates who have taken a CS course\n",
    "TAKEN_CS_DF = CLEAN_DF[CLEAN_DF['Q5'] == 'Yes']\n",
    "\n",
    "# TAKEN_CS_DF['Q17']"
   ]
  },
  {
   "cell_type": "markdown",
   "metadata": {},
   "source": [
    "### Section 4 (Q16, Q17, Q18, Q19, Q20) - Saba"
   ]
  },
  {
   "cell_type": "code",
   "execution_count": null,
   "metadata": {},
   "outputs": [],
   "source": []
  },
  {
   "cell_type": "markdown",
   "metadata": {},
   "source": [
    "### Section 5 (Q22, Q23, Q24, Q25) - Catherine"
   ]
  },
  {
   "cell_type": "code",
   "execution_count": 29,
   "metadata": {},
   "outputs": [],
   "source": [
    "MALE_DF = CLEAN_DF[CLEAN_DF['Q30'].isin(MALE)]\n",
    "NONMALE_DF = CLEAN_DF[CLEAN_DF['Q30'].isin(NONMALE)]\n",
    "NONSTRAIGHT_DF = CLEAN_DF[CLEAN_DF['Q32'].isin(NONSTRAIGHT)]\n",
    "STRAIGHT_DF = CLEAN_DF[CLEAN_DF['Q32'].isin(STRAIGHT)]\n",
    "WHITE_DF = CLEAN_DF[CLEAN_DF['Q33'].str.contains('White', na=False)]\n",
    "ASIAN_DF = CLEAN_DF[CLEAN_DF['Q33'].str.contains('Asian', na=False)]\n",
    "BLACK_DF = CLEAN_DF[CLEAN_DF['Q33'].str.contains('Black or African American', na=False)]\n",
    "HISPANIC_DF = CLEAN_DF[CLEAN_DF['Q34'] == 'Yes, of Hispanic or Latinx origin']\n",
    "FGLI_DF = CLEAN_DF[(CLEAN_DF['Q35'] == 'Yes') | (CLEAN_DF['Q36'] == 'Yes')]\n",
    "NONFGLI_DF = CLEAN_DF[(CLEAN_DF['Q35'] == 'No') & (CLEAN_DF['Q36'] == 'No')]\n",
    "DIS_DF = CLEAN_DF[CLEAN_DF['Q37'].isin(DIAGNOSED)]\n",
    "NONDIS_DF = CLEAN_DF[CLEAN_DF['Q37'].isin(NONDIAGNOSED)]\n",
    "\n",
    "df_list = {'Male': MALE_DF, 'Nonmale': NONMALE_DF, 'Nonstraight': NONSTRAIGHT_DF, 'Straight': STRAIGHT_DF,\n",
    "          'White': WHITE_DF, 'Asian': ASIAN_DF, 'Black': BLACK_DF, 'Hispanic': HISPANIC_DF,\n",
    "          'FGLI': FGLI_DF, 'NONFGLI_DF': NONFGLI_DF, 'DIS_DF': DIS_DF, 'NONDIS_DF': NONDIS_DF}"
   ]
  },
  {
   "cell_type": "code",
   "execution_count": 54,
   "metadata": {},
   "outputs": [
    {
     "data": {
      "image/png": "[encoded data removed]",
      "text/plain": [
       "<Figure size 432x288 with 1 Axes>"
      ]
     },
     "metadata": {
      "needs_background": "light"
     },
     "output_type": "display_data"
    },
    {
     "data": {
      "image/png": "[encoded data removed]",
      "text/plain": [
       "<Figure size 432x288 with 1 Axes>"
      ]
     },
     "metadata": {
      "needs_background": "light"
     },
     "output_type": "display_data"
    },
    {
     "data": {
      "image/png": "[encoded data removed]",
      "text/plain": [
       "<Figure size 432x288 with 1 Axes>"
      ]
     },
     "metadata": {
      "needs_background": "light"
     },
     "output_type": "display_data"
    }
   ],
   "source": [
    "CLEAN_DF['Q22_1'] = CLEAN_DF['Q22_1'].astype('float')\n",
    "CLEAN_DF['Q22_2'] = CLEAN_DF['Q22_2'].astype('float')\n",
    "CLEAN_DF['Q22_3'] = CLEAN_DF['Q22_3'].astype('float')\n",
    "\n",
    "gender = 'Q30'\n",
    "race = 'Q33'\n",
    "sexual_orientation = 'Q32'\n",
    "\n",
    "boxplot1 = CLEAN_DF.boxplot(column=['Q22_1'], by=gender)\n",
    "boxplot2 = CLEAN_DF.boxplot(column=['Q22_2'], by=race)\n",
    "boxplot3 = CLEAN_DF.boxplot(column=['Q22_3'], by=sexual_orientation)"
   ]
  },
  {
   "cell_type": "code",
   "execution_count": 61,
   "metadata": {},
   "outputs": [
    {
     "name": "stdout",
     "output_type": "stream",
     "text": [
      "Please indicate the extent to which you disagree or agree with each of the following statements: I have noticed discrimination within my primary concentration on the basis of (1 - strongly disagree, 4 - neither agree nor disagree, 7 - strongly agree) - My gender\n",
      "Please indicate the extent to which you disagree or agree with each of the following statements: I have noticed discrimination within my primary concentration on the basis of (1 - strongly disagree, 4 - neither agree nor disagree, 7 - strongly agree) - My race or ethnicity\n",
      "Please indicate the extent to which you disagree or agree with each of the following statements: I have noticed discrimination within my primary concentration on the basis of (1 - strongly disagree, 4 - neither agree nor disagree, 7 - strongly agree) - My sexuality\n"
     ]
    },
    {
     "data": {
      "image/png": "[encoded data removed]",
      "text/plain": [
       "<Figure size 432x288 with 1 Axes>"
      ]
     },
     "metadata": {
      "needs_background": "light"
     },
     "output_type": "display_data"
    },
    {
     "data": {
      "image/png": "[encoded data removed]",
      "text/plain": [
       "<Figure size 432x288 with 1 Axes>"
      ]
     },
     "metadata": {
      "needs_background": "light"
     },
     "output_type": "display_data"
    },
    {
     "data": {
      "image/png": "[encoded data removed]",
      "text/plain": [
       "<Figure size 432x288 with 1 Axes>"
      ]
     },
     "metadata": {
      "needs_background": "light"
     },
     "output_type": "display_data"
    }
   ],
   "source": [
    "# print(QUESTION_KEY['Q23_2'][0])\n",
    "# print(QUESTION_KEY['Q23_3'][0])\n",
    "# print(QUESTION_KEY['Q23_4'][0])\n",
    "\n",
    "# CLEAN_DF['Q23_1'] = CLEAN_DF['Q23_1'].astype('float')\n",
    "CLEAN_DF['Q23_2'] = CLEAN_DF['Q23_2'].astype('float')\n",
    "CLEAN_DF['Q23_3'] = CLEAN_DF['Q23_3'].astype('float')\n",
    "CLEAN_DF['Q23_4'] = CLEAN_DF['Q23_4'].astype('float')\n",
    "\n",
    "\n",
    "gender = 'Q30'\n",
    "race = 'Q33'\n",
    "sexual_orientation = 'Q32'\n",
    "\n",
    "# boxplot1 = CLEAN_DF.boxplot(column=['Q23_1'], by=gender)\n",
    "boxplot2 = CLEAN_DF.boxplot(column=['Q23_2'], by=gender)\n",
    "boxplot3 = CLEAN_DF.boxplot(column=['Q23_3'], by=race)\n",
    "boxplot3 = CLEAN_DF.boxplot(column=['Q23_3'], by=sexual_orientation)"
   ]
  },
  {
   "cell_type": "code",
   "execution_count": 64,
   "metadata": {},
   "outputs": [
    {
     "data": {
      "image/png": "[encoded data removed]",
      "text/plain": [
       "<Figure size 432x288 with 1 Axes>"
      ]
     },
     "metadata": {
      "needs_background": "light"
     },
     "output_type": "display_data"
    },
    {
     "data": {
      "image/png": "[encoded data removed]",
      "text/plain": [
       "<Figure size 432x288 with 1 Axes>"
      ]
     },
     "metadata": {
      "needs_background": "light"
     },
     "output_type": "display_data"
    },
    {
     "data": {
      "image/png": "[encoded data removed]",
      "text/plain": [
       "<Figure size 432x288 with 1 Axes>"
      ]
     },
     "metadata": {
      "needs_background": "light"
     },
     "output_type": "display_data"
    }
   ],
   "source": [
    "# print(QUESTION_KEY['Q24_1'][0])\n",
    "\n",
    "CLEAN_DF['Q24_1'] = CLEAN_DF['Q24_1'].astype('float')\n",
    "CLEAN_DF['Q24_2'] = CLEAN_DF['Q24_2'].astype('float')\n",
    "CLEAN_DF['Q24_3'] = CLEAN_DF['Q24_3'].astype('float')\n",
    "\n",
    "gender = 'Q30'\n",
    "sexual_orientation = 'Q32'\n",
    "race = 'Q33'\n",
    "\n",
    "boxplot1 = CLEAN_DF.boxplot(column=['Q24_1'], by=gender)\n",
    "boxplot2 = CLEAN_DF.boxplot(column=['Q24_2'], by=sexual_orientation)\n",
    "boxplot3 = CLEAN_DF.boxplot(column=['Q24_3'], by=race)"
   ]
  },
  {
   "cell_type": "code",
   "execution_count": null,
   "metadata": {},
   "outputs": [],
   "source": [
    "from matplotlib import pyplot as plt\n",
    "\n",
    "def get_counts(df, question):\n",
    "    res = {'Academic interests': 0, 'Professional interests': 0, 'Non-academic and non-professional interests': 0, 'None of the above': 0}\n",
    "    for row in df[question].dropna():\n",
    "        for key in res:\n",
    "            if key in row:\n",
    "                res[key] += 1\n",
    "                \n",
    "    return res\n",
    "        \n",
    "for df in df_list:\n",
    "    dct = get_counts(df_list[df], 'Q25')\n",
    "    plt.bar(list(dct.keys()), dct.values())\n",
    "    plt.title(df)\n",
    "    plt.show()"
   ]
  },
  {
   "cell_type": "markdown",
   "metadata": {},
   "source": [
    "### Section 6 (Q26, Q27, Q28, Q29) - Alyssa"
   ]
  },
  {
   "cell_type": "code",
   "execution_count": null,
   "metadata": {},
   "outputs": [],
   "source": []
  }
 ],
 "metadata": {
  "kernelspec": {
   "display_name": "Python 3 (ipykernel)",
   "language": "python",
   "name": "python3"
  },
  "language_info": {
   "codemirror_mode": {
    "name": "ipython",
    "version": 3
   },
   "file_extension": ".py",
   "mimetype": "text/x-python",
   "name": "python",
   "nbconvert_exporter": "python",
   "pygments_lexer": "ipython3",
   "version": "3.9.5"
  }
 },
 "nbformat": 4,
 "nbformat_minor": 2
}
